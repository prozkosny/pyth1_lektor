{
 "cells": [
  {
   "cell_type": "markdown",
   "id": "fbf88b07",
   "metadata": {},
   "source": [
    "<h1>Iterace</h1>"
   ]
  },
  {
   "cell_type": "markdown",
   "id": "3d69e212",
   "metadata": {},
   "source": [
    "<h2>Příkazy pro iteraci</h2>\n",
    "\n",
    "Python má 2 základní příkazy (klíčová slova) pro iterace:\n",
    "- for: příkaz používaný k procházení sekvence, tj. list, n-tice (tuple), slovník, string\n",
    "- while: příkaz exekuován do doby, kdy je vrácena hodnota True\n"
   ]
  },
  {
   "cell_type": "code",
   "execution_count": null,
   "id": "d0e1de58",
   "metadata": {},
   "outputs": [],
   "source": [
    "mesta = ['Praha','Brno','Ostrava'] #vytvoreni promenne typu list\n",
    "for m in mesta: # prochazeni promenne s ulozenim konkretni polozky do promenne m\n",
    "    print(m)# vypsani aktualniho mesta\n",
    "    \n",
    "    \n",
    "pocet_mest = len(mesta)\n",
    "i = 0\n",
    "\n",
    "while i <pocet_mest:\n",
    "    print(f'pozice polozky: {i}, hodnota: {mesta[i]} ')\n",
    "    i = i+1"
   ]
  },
  {
   "cell_type": "markdown",
   "id": "d5c72151",
   "metadata": {},
   "source": [
    "<h3> Iterace slovníkem </h3>\n",
    "\n",
    "-  Za pomoci klíčového slova for v případě, že iterujeme položkou (úroveň klíč:hodnota), nebo klíči, nebo hodnotami.\n",
    "-  Za pomoci klíčového slova for s vytvořením dvou proměnných v případě, že iterujeme položkou a na výstupu nechceme\n",
    "    v jedné proměnné tvar klíč:hodnota. V tomto případě používáme metodu items() objektu slovník.\n"
   ]
  },
  {
   "cell_type": "code",
   "execution_count": null,
   "id": "2db452ee",
   "metadata": {},
   "outputs": [],
   "source": [
    "mesta = {'Praha':None,'Brno':'Jihomoravský','Ostrava':'Moravskoslezský'}\n",
    "\n",
    "for m in mesta:\n",
    "    print(f'Iterace celým slovníkem, aktuální položka: {m}')\n",
    "    \n",
    "for m in mesta.keys():\n",
    "    print(f'Iterace klíči, aktuální položka: {m}')\n",
    "    \n",
    "for m in mesta.values():\n",
    "    print(f'Iterace hodnotami, aktuální položka: {m}')\n",
    "\n",
    "for m, k in mesta.items():\n",
    "     print(f'Iterace položkami s rozdělením klíče a hodnoty, aktuální klíč: {m}, aktuální hodnota: {k}')\n",
    "\n",
    "    "
   ]
  },
  {
   "cell_type": "markdown",
   "id": "165aeee7",
   "metadata": {},
   "source": [
    "<h2>Řízení iterací</h2>\n",
    "Pokud nechceme vždy procházet celou sekvenci, můžeme iteraci doplnit o klíčová slova:\n",
    "\n",
    "-  break: pro zastavení iterace\n",
    "-  continue: pro zastavení iterace a pokračování s další položkou\n",
    "\n",
    "Pozn.: U iterace za pomoci příkazu while lze iteraci doplnit o klíčové slovo else v případě, že\n",
    "podmínka již nevrací hodnotu True.\n",
    "\n"
   ]
  },
  {
   "cell_type": "code",
   "execution_count": null,
   "id": "d66f15e2",
   "metadata": {},
   "outputs": [],
   "source": [
    "mesta = ['Praha','Brno','Ostrava'] # vytvoreni promenne typu list\n",
    "for m in mesta: # prochazeni promenne s ulozenim konkretni polozky do promenne m\n",
    "    print(f'přistupuji k městu: {m}')\n",
    "    if m == 'Praha':\n",
    "        continue # zastavujeme aktualni iteraci a pokracujeme k dalsi polozce\n",
    "        print(m)\n",
    "    elif m == 'Brno':\n",
    "        print(f'město je {m}')\n",
    "        break # zastavujeme aktualni iteraci\n",
    "    \n",
    "    \n"
   ]
  },
  {
   "cell_type": "code",
   "execution_count": null,
   "id": "acaccca2",
   "metadata": {},
   "outputs": [],
   "source": [
    "mesta = ['Praha','Brno','Ostrava'] # vytvoreni promenne typu list\n",
    "pocet_mest = len(mesta)\n",
    "i = 0\n",
    "while i <pocet_mest:\n",
    "    print(f'pozice položky: {i}, hodnota: {mesta[i]} ') #pokud plati podminka\n",
    "    i = i+1\n",
    "else: # pokud neplati podminka\n",
    "    print(f'pro pozici {i} není v listu položka')\n",
    "    "
   ]
  },
  {
   "cell_type": "code",
   "execution_count": null,
   "id": "cb0da404",
   "metadata": {},
   "outputs": [],
   "source": [
    "# Cviceni 4\n",
    "\n",
    "# 1. Vytvorte promennou mesta s hodnotou ['Praha','Brno','Ostrava']\n",
    "# 2. Prochazejte jednotliva mesta, pokud se  hodnota polozky rovna Brno, iteraci zastavte, jinak vypiste hodnotu funkci print()\n"
   ]
  },
  {
   "cell_type": "code",
   "execution_count": null,
   "id": "64b7ca3a",
   "metadata": {},
   "outputs": [],
   "source": [
    "# Cviceni 5\n",
    "# 1. Vytvorte promennou mesta s hodnotou {'Praha':None,'Brno':'Jihomoravsky','Ostrava':'Moravskoslezsky'}\n",
    "# 2. Prochazejte hodnoty (values) slovniku, pokud se hodnota rovna None, zastavte aktualni iteraci a pokracujte dale, jinak vypiste aktualni hodnotu\n",
    "# 3. Prochazejte klice (keys) slovniku, pokud se klic rovna Brno, iteraci zastavte, jinak vypiste funkci print() aktualni klic\n",
    "\n",
    "\n",
    "\n",
    "    \n",
    "\n"
   ]
  }
 ],
 "metadata": {
  "kernelspec": {
   "display_name": "Python 3 (ipykernel)",
   "language": "python",
   "name": "python3"
  },
  "language_info": {
   "codemirror_mode": {
    "name": "ipython",
    "version": 3
   },
   "file_extension": ".py",
   "mimetype": "text/x-python",
   "name": "python",
   "nbconvert_exporter": "python",
   "pygments_lexer": "ipython3",
   "version": "3.11.4"
  }
 },
 "nbformat": 4,
 "nbformat_minor": 5
}
