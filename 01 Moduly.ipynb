{
 "cells": [
  {
   "cell_type": "markdown",
   "id": "cfd11e84",
   "metadata": {},
   "source": [
    "<h1>Moduly</h1>"
   ]
  },
  {
   "cell_type": "markdown",
   "id": "668e6f5f",
   "metadata": {},
   "source": [
    "<h2>Definice modulu</h2>\n",
    "\n",
    "Modul je soubor obsahující příkazy a definice jazyka Python.\n",
    "Název modulu je dán názvem souboru, ve kterém jsou příkazy a definice uloženy.\n",
    "Import (vložení) modulu do skriptu je možný za pomoci klíčového slova import.\n",
    "\n",
    "<h3>Možnosti importu modulu</h3>\n",
    "\n",
    "- Import celé knihovny, např. import bs4, při využití konkrétní části je třeba se odvolat na název modulu, tj. bs4.BeatifulSoup.\n",
    "- Import konkrétní části modulu, např. from bs4 import BeautifulSoup, zde se již není třeba odvolávat na název modulu, ale rovnou na jeho konkrétní část.\n",
    "- Import modulu či jeho konkrétní části s následným použitím aliasu, např. import bs4 as bs NEBO from bs4 import BeautifulSoup as bs, kdy konkrétní příkazy a definice jsou dostupné pod tímto aliasem.\n",
    "\n",
    "<h3>Konvence importu modulu</h3>\n",
    "\n",
    "- Import probíhá ihned na začátku skriptu.\n",
    "- Jednotlivé importy jsou na samostatných řádcích.\n",
    "- Preferenci mají absolutní importy před relativními (např. from skripty.funkce import pocitej misto from .funkce import pocitej).\n",
    "- Import za pomoci \"from module import *\" není dobrý nápad.\n",
    "- Nejdříve importujeme standardní moduly, následně moduly třetích stran a následně lokální moduly a balíčky.\n",
    "\n",
    "<h3>Instalace modulů třetích stran</h3>\n",
    "\n",
    "Před samotným importem je modul nutné nainstalovat, a to prostřednictvím manažeru Python modulů, tzv. PIP.\n",
    "Import manažera je možný zde: https://pypi.org/project/pip/\n",
    "\n",
    "Příklad instalace konkrétního modulu v příkazovém řádku:\n",
    "<code>pip install requests</code>\n",
    "\n",
    "Kromě instalace lze moduly aktualizovat či odinstalovat.\n"
   ]
  }
 ],
 "metadata": {
  "kernelspec": {
   "display_name": "Python 3 (ipykernel)",
   "language": "python",
   "name": "python3"
  },
  "language_info": {
   "codemirror_mode": {
    "name": "ipython",
    "version": 3
   },
   "file_extension": ".py",
   "mimetype": "text/x-python",
   "name": "python",
   "nbconvert_exporter": "python",
   "pygments_lexer": "ipython3",
   "version": "3.10.2"
  }
 },
 "nbformat": 4,
 "nbformat_minor": 5
}
