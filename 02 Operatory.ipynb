{
 "cells": [
  {
   "cell_type": "markdown",
   "id": "0cc8e361",
   "metadata": {},
   "source": [
    "## Aritmetické operátory\n",
    "\n",
    "| Operator | Popis     |\n",
    "|----------|-----------|\n",
    "| +        | sčítání   |\n",
    "| -        | odčítání  |\n",
    "| *        | násobení  |\n",
    "| /        | dělení    |\n",
    "| %        | modulo    |\n",
    "| **       | umocnění  |\n",
    "\n",
    " \n",
    " "
   ]
  },
  {
   "cell_type": "markdown",
   "id": "97724af3",
   "metadata": {},
   "source": [
    "## Porovnávací operátory\n",
    "\n",
    "| Operator | Popis          |\n",
    "|----------|----------------|\n",
    "| ==       | je rovno       |\n",
    "| !=       | není rovno     |\n",
    "| <        | větší         |\n",
    "| <=       | větší či rovno |\n",
    "| >        | menší          |\n",
    "| >=       | menší či rovno |\n"
   ]
  },
  {
   "cell_type": "markdown",
   "id": "e463680a",
   "metadata": {},
   "source": [
    "## Logické operátory\n",
    "\n",
    "| Operator | Popis            |\n",
    "|----------|------------------|\n",
    "| and      | a zároveň        |\n",
    "| or       | nebo             |\n",
    "| not      | negace podmínky  |\n"
   ]
  },
  {
   "cell_type": "markdown",
   "id": "daeeb239",
   "metadata": {},
   "source": [
    "## Operátory členství\n",
    "\n",
    "| Operator | Popis            |\n",
    "|----------|------------------|\n",
    "| in      | Vrátí True, pokud je sekvence přítomna v objektu      |\n",
    "| not in       | Vrátí True, pokud sekvence není přítomna v objektu              |\n",
    "\n"
   ]
  }
 ],
 "metadata": {
  "kernelspec": {
   "display_name": "Python 3 (ipykernel)",
   "language": "python",
   "name": "python3"
  },
  "language_info": {
   "codemirror_mode": {
    "name": "ipython",
    "version": 3
   },
   "file_extension": ".py",
   "mimetype": "text/x-python",
   "name": "python",
   "nbconvert_exporter": "python",
   "pygments_lexer": "ipython3",
   "version": "3.10.2"
  }
 },
 "nbformat": 4,
 "nbformat_minor": 5
}
