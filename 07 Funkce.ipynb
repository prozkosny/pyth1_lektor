{
 "cells": [
  {
   "cell_type": "markdown",
   "id": "5ef12964",
   "metadata": {},
   "source": [
    "<h1>Funkce</h1>"
   ]
  },
  {
   "cell_type": "markdown",
   "id": "a0e645d9",
   "metadata": {},
   "source": [
    "- Funkce nám umožňují opakovaně volat sadu příkazů.\n",
    "- Blok kódu uvnitř funkce běží jen v případě, že je zavolána funkce samotná.\n",
    "- Funkce mohou přijímat tzv. parametry, tj. informace, se kterými dále pracují.\n",
    "- Parametry jsou buď povinné (poziční) či nepovinné (pojmenované).\n",
    "- Poziční parametry vždy předchází pojmenovaným parametrům.\n",
    "- Funkce mohou vracet hodnotu, výchozí návratovou hodnotou je None.\n",
    "- Python má celou řadu nativních funkcí, viz https://docs.python.org/3/library/functions.html.\n",
    "- Vlastní definujeme klíčovým slovem def.\n",
    "- Návratovou hodnotu definujeme klíčovým slovem return.\n",
    "- Konvence pro pojmenovávání funkcí je následující: https://peps.python.org/pep-0008/#function-and-variable-names."
   ]
  },
  {
   "cell_type": "code",
   "execution_count": null,
   "id": "97bb67ae",
   "metadata": {},
   "outputs": [],
   "source": [
    "# Priklady funkci s vychozi a vlastni navratovou hodnotou\n",
    "\n",
    "def pozdrav():\n",
    "    print('Dobry den')\n",
    "    # Funkce ma navratovou hodnotu None\n",
    "pozdrav()\n",
    "\n",
    "zdravice = pozdrav()\n",
    "print(f'Hodnota promenne zdravice je {zdravice}')\n",
    "      \n",
    "def vrat_pozdrav():\n",
    "    return 'Dobry den' # Navratova hodnota funkce\n",
    "\n",
    "zdravice = vrat_pozdrav()\n",
    "print(f'Hodnota promenne zdravice je {zdravice}')     \n",
    "\n",
    "\n",
    "pozdrav(1)"
   ]
  },
  {
   "cell_type": "code",
   "execution_count": null,
   "id": "2ef046c4",
   "metadata": {},
   "outputs": [],
   "source": [
    "def pozdrav_uzivatele(uzivatel):\n",
    "    print(f'Zdravim uzivatele/uzivatelku {uzivatel}')\n",
    "\n",
    "def pozdrav_uzivatele2(uzivatel=None):\n",
    "    if uzivatel == None:\n",
    "        print('Nemam koho pozdravit')\n",
    "    else:\n",
    "        print(f'Zdravim uzivatele/uzivatelku {uzivatel}')\n",
    "        \n",
    "\n",
    "print('\\nVolam funkci pozdrav_uzivatele')\n",
    "pozdrav_uzivatele('Python')\n",
    "print('\\nVolam funkci pozdrav_uzivatele2 s dosazenim pojmenovaneho argumentu')\n",
    "pozdrav_uzivatele2(uzivatel='Python')\n",
    "print('\\nVolam funkci pozdrav_uzivatele2 bez pojmenovaneho argumentu')\n",
    "pozdrav_uzivatele2()\n",
    "        \n",
    "        "
   ]
  },
  {
   "cell_type": "markdown",
   "id": "4be3a8fc",
   "metadata": {},
   "source": [
    "<h2>Více k argumentům</h2>\n",
    "\n",
    "<h3>Základní rozdělení</h3>\n",
    "\n",
    "- Poziční argumenty: Jsou povinné, nejsou pojmenované a záleží na jejich pořadí.\n",
    "- Pojmenované argumenty: Jsou volitelné (v případě nezadání mají výchozí hodnotu),\n",
    "    identifikace je prostřednictvím názvu, tj. nezáleží na pořadí.\n",
    "    \n",
    "    \n",
    "<h3>Práce s pojmenovanými argumenty</h3>\n",
    "\n",
    "- Dle konvence mají výchozí hodnotu None.\n",
    "- Pokud uživatel nezadá jméno parametru do funkce očekávající pojmenované argumenty,\n",
    "    Python s nimi pracuje jako s pozičními.\n",
    "- Lze vynutit pojmenování argumentu za použití znaku * před argumenty, které mají\n",
    "    být povinně pojmenované.\n",
    "\n",
    "    \n"
   ]
  },
  {
   "cell_type": "code",
   "execution_count": null,
   "id": "12ea7035",
   "metadata": {},
   "outputs": [],
   "source": [
    "# Pojmenovane argumenty bez vynuceni pojmenovani\n",
    "def pozdrav(jmeno,typ_pozdravu=None,znamy=None):\n",
    "    print(f'{typ_pozdravu} uzivateli/uzivatelko {jmeno}, pozdravujte {znamy}')\n",
    "    \n",
    "pozdrav('Python','Dobry den,','SQL')\n",
    "\n",
    "# Argumenty typ_pozdravu a znamy jsou povinne pojmenovane\n",
    "def pozdrav2(jmeno,*,typ_pozdravu,znamy=None):\n",
    "    print(f'{typ_pozdravu} uzivateli/uzivatelko {jmeno}, pozdravujte {znamy}')\n",
    "    \n",
    "\n",
    "pozdrav2('Python',typ_pozdravu='Ahoj')"
   ]
  },
  {
   "cell_type": "markdown",
   "id": "c4ca0115",
   "metadata": {},
   "source": [
    "<h3>*args a **kwargs</h3>\n",
    "\n",
    "- V případě, že počet pozičních argumentů není znám, uvádíme je znakem *\n",
    "    a dle konvence i hodnotou args.\n",
    "- V případě, že počet pojmenovaných argumentů není znám, uvádíme je znakem **\n",
    "    a dle konvence i hodnotou kwargs.\n",
    "- Jednotlivé pojmenované argumenty jsou uloženy ve slovníku, kde máme pár klíč:hodnota.\n"
   ]
  },
  {
   "cell_type": "code",
   "execution_count": null,
   "id": "c9ba655f",
   "metadata": {},
   "outputs": [],
   "source": [
    "def pozdrav(*args):\n",
    "    try:\n",
    "   \n",
    "        for j in args:\n",
    "            print(f'Ahoj {j}')\n",
    "    except:\n",
    "        print(f'Ahoj {args}')\n",
    "        \n",
    "        \n",
    "def pozdrav2(**kwargs):\n",
    "    for k,v in kwargs.items():\n",
    "        print(f'Zdravim {k} {v}')\n",
    "\n",
    "\n",
    "\n",
    "    \n",
    "pozdrav('Python','Java')\n",
    "pozdrav2(jazyk='Python',aplikace='Jupyter notebook')"
   ]
  },
  {
   "cell_type": "markdown",
   "id": "1ccb9f64",
   "metadata": {},
   "source": [
    "<h2>Docstring</h2>\n",
    "\n",
    "- Česky dokumentační řetězec.\n",
    "- Krátký popis modulu, funkce, třídy či metody.\n",
    "- Specifikuje, jak metodu používat.\n",
    "- Docstring je deklarován použitím trojitými apostrofy, tj. ''' či trojitými uvozovkami, tj. \"\"\".\n",
    "- Docstring je k dispozici za pomoci metody __doc__ či funkce help().\n",
    "\n",
    "Konvence k docstringu: https://peps.python.org/pep-0257/\n"
   ]
  },
  {
   "cell_type": "code",
   "execution_count": null,
   "id": "1ec9cf7c",
   "metadata": {},
   "outputs": [],
   "source": [
    "print('Vypis dostring funkce print')\n",
    "print(print.__doc__)"
   ]
  },
  {
   "cell_type": "code",
   "execution_count": null,
   "id": "460dc107",
   "metadata": {},
   "outputs": [],
   "source": [
    "#Priklad docstring \n",
    "def pozdrav(uzivatel):\n",
    "    #Priklad docstring \n",
    "    '''Vypise do konzole text doplneny o hodnotu argumentu.\n",
    "    \n",
    "    Parametry:\n",
    "    argument: Jmeno uzivatele\n",
    "    \n",
    "    Navratova hodnota: None \n",
    "    \n",
    "    '''\n",
    "    print(f'Ahoj {uzivatel}')\n",
    "    \n",
    "print(pozdrav.__doc__)"
   ]
  },
  {
   "cell_type": "code",
   "execution_count": null,
   "id": "ea1de3c6",
   "metadata": {},
   "outputs": [],
   "source": [
    "# Cviceni1\n",
    "\n",
    "# 1. Vytvorte funkci pozdrav s pozicnim argumentem uzivatel a pojmenovanym argumentem cast_dne\n",
    "# 2. Funkce bude vypisovat hodnotu do konzole, pricemz:\n",
    "#     - pokud uzivatel vyplni pojmenovany_argument, vypiseme hodnotu: '{cast_dne},{uzivatel}'\n",
    "#     - pokud uzivatel nevyplni pojmenovany_argument, vypiseme hodnotu: 'Dobry den, {uzivatel}'"
   ]
  },
  {
   "cell_type": "code",
   "execution_count": null,
   "id": "e8765b29",
   "metadata": {},
   "outputs": [],
   "source": [
    "# Cviceni2\n",
    "\n",
    "# 1. Vytvorte funkci pozdrav_uzivatele s libovolnym poctem pojmenovanych argumentu.\n",
    "# 2. Do konzole nasledne vypiste zvlast kazdou jednu hodnotu na urovni klic:hodnota, a to\n",
    "#     ve formatu: '{}',{}.\n",
    "#     Tj. pokud klic:hodnota bude Honzo:'Dobry den', tak vratime: Dobrý den, Honzo\n",
    "                \n",
    "                "
   ]
  }
 ],
 "metadata": {
  "kernelspec": {
   "display_name": "Python 3 (ipykernel)",
   "language": "python",
   "name": "python3"
  },
  "language_info": {
   "codemirror_mode": {
    "name": "ipython",
    "version": 3
   },
   "file_extension": ".py",
   "mimetype": "text/x-python",
   "name": "python",
   "nbconvert_exporter": "python",
   "pygments_lexer": "ipython3",
   "version": "3.11.4"
  }
 },
 "nbformat": 4,
 "nbformat_minor": 5
}
