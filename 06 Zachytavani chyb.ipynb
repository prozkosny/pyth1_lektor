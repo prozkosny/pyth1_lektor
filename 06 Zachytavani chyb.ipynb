{
 "cells": [
  {
   "cell_type": "markdown",
   "id": "aa3b112d",
   "metadata": {},
   "source": [
    "<h1>Zachytavani chyb</h1>"
   ]
  },
  {
   "cell_type": "markdown",
   "id": "7c4ef85a",
   "metadata": {},
   "source": [
    "Pokud chceme ošetřit chování skriptu v případě vzniku chyby, případně chceme zjistit důvod chyby, používáme k tomu příkazy:\n",
    "\n",
    "- try: část kódu, v rámci kterého testujeme chybu\n",
    "- except: část kódu, který definuje chování v případě vzniku chyby\n",
    "- else: část kódu vypsána v případě, že nevznikla chyba\n",
    "- finally: část kódu exekuována bez ohledu na to, jestli chyba vznikne či nikoliv\n",
    "\n",
    "Běh skriptu lze ovlivnit i v závislosti na typu chyby, např.:\n",
    "- NameError: identifikátor není nalezen v lokálním či globálním prostředí\n",
    "- TypeError: operace či funkce neodpovídá danému datovému typu\n",
    "- ValueError: operace či funkce neodpovídá dané hodnotě\n",
    "- ImportError: import modulu selhal\n",
    "- ModuleNotFoundError: modul nenalezen\n",
    "- IndexError: index nebyl nalezen v sekvenci\n",
    "- ZeroDivisionError: dělení nulou\n",
    "- IndentationError: bylo použito nesprávné odsazení."
   ]
  },
  {
   "cell_type": "code",
   "execution_count": 4,
   "id": "a8dc839d",
   "metadata": {},
   "outputs": [
    {
     "name": "stdout",
     "output_type": "stream",
     "text": [
      "Mesto na pozici 1 je Brno\n"
     ]
    }
   ],
   "source": [
    "mesta = ['Praha','Brno','Ostrava']\n",
    "vstup = input('Zadejte pozici mesta v listu: ')\n",
    "\n",
    "try:\n",
    "    vstup = int(vstup)\n",
    "    try:\n",
    "        print(f'Mesto na pozici {vstup} je {mesta[vstup]}')\n",
    "    except IndexError:\n",
    "        print(f'Na zadane pozici neni zadne mesto')\n",
    "except ValueError:\n",
    "    print('Zadana hodnota neni platnym cislem')\n",
    "\n"
   ]
  },
  {
   "cell_type": "code",
   "execution_count": null,
   "id": "d83578ec",
   "metadata": {},
   "outputs": [],
   "source": [
    "mesta = {'praha': None, 'brno': 'jihomoravský', 'ostrava': 'moravskoslezský'}\n",
    "\n",
    "vstup = input('Zadejte město pro zjištění kraje: ')\n",
    "\n",
    "try:\n",
    "    print(f'Kraj města {vstup} je {mesta[vstup]}')\n",
    "except:\n",
    "    print(f'Kraj města {vstup} nenalezen')\n",
    "    \n",
    "\n",
    "print('\\n')\n",
    "\n",
    "try:\n",
    "    print(f'Kraj města {vstup} je {mesta[vstup]}')\n",
    "except KeyError:\n",
    "    print(f'Město {vstup} není ve slovníku')\n",
    "finally:\n",
    "    print('Dotazování dokončeno')\n",
    "\n",
    "    \n"
   ]
  },
  {
   "cell_type": "code",
   "execution_count": null,
   "id": "e7b3eee8",
   "metadata": {},
   "outputs": [],
   "source": [
    "#Cviceni1\n",
    "\n",
    "# 1. Vytvorte promennou hodnota a do ni ulozte vstup uzivatele (v ramci uzivatele pozadejte o pozici listu, jejiz\n",
    "#     hodnotu chce vypsat).\n",
    "# 2. Zkuste do konzole vypsat hodnotu pozice z listu mesta\n",
    "#     - pokud cast kodu vrati chybu ValueError, vratte uzivateli informaci o tom, ze nezadal ciselnou hodnotu\n",
    "#     - pokud cast kodu vrati chybu IndexError, vratte uzivateli informaci ot om, ze zadal prilis vysokou hodnotu\n",
    "mesta = ['Praha','Brno','Ostrava']\n",
    "\n"
   ]
  },
  {
   "cell_type": "code",
   "execution_count": null,
   "id": "17d1270c",
   "metadata": {},
   "outputs": [],
   "source": [
    "# Cviceni2\n",
    "\n",
    "# 1. Vytvorte promennou hodnota a do ni ulozte vstup uzivatele (v ramci uzivatele pozadejte o klic slovniku, jehoz\n",
    "#     hodnotu chce vypsat.\n",
    "# 2. Zkuste do konzole vypsat hodnotu slovniku:\n",
    "#     - pokud cast kodu vrati chybu KeyError, vratte uzivateli informaci, ze pro dany klic hodnotu nemame\n",
    "#     - pokud je hodnota klice None, vratte uzivateli: Pro klic {} nebyla hodnota doplnena\n",
    "#     - pokud neni hodnota klice None, vratte uzivateli: Hodnota klice {} je {}\n",
    "mesta = {'praha':None,'brno':'jihomoravsky','ostrava':'moravskoslezsky'}\n"
   ]
  }
 ],
 "metadata": {
  "kernelspec": {
   "display_name": "Python 3 (ipykernel)",
   "language": "python",
   "name": "python3"
  },
  "language_info": {
   "codemirror_mode": {
    "name": "ipython",
    "version": 3
   },
   "file_extension": ".py",
   "mimetype": "text/x-python",
   "name": "python",
   "nbconvert_exporter": "python",
   "pygments_lexer": "ipython3",
   "version": "3.11.4"
  }
 },
 "nbformat": 4,
 "nbformat_minor": 5
}
