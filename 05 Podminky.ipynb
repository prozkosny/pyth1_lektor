{
 "cells": [
  {
   "cell_type": "markdown",
   "id": "6f2d10ec",
   "metadata": {},
   "source": [
    "<h2>Definice podmínky</h2>\n",
    "\n",
    "- Začátek podmínky uvozujeme klíčovým slovem `if`, za kterým následuje podmínka a dvojtečka.\n",
    "- Kód platný v případě splnění podmínky je odsazen.\n",
    "- Každou další podmínku testujeme slovem `elif`, za kterou následuje podmínka a dvojtečka.\n",
    "- Alternativní hodnotu uvozujeme klíčovým slovem `else`, za kterým následuje dvojtečka.\n",
    "\n",
    "K definici podmínky používáme operátory platné k danému datovému typu.\n"
   ]
  },
  {
   "cell_type": "code",
   "execution_count": null,
   "id": "304df65f",
   "metadata": {},
   "outputs": [],
   "source": [
    "mesta = {'Praha':None,'Brno':'Jihomoravský','Ostrava':'Moravskoslezský','Plzeň':None}\n",
    "\n",
    "for k, v in mesta.items():\n",
    "    if v != None:\n",
    "        print(f'Hodnota klíče {k} je: {v}')\n",
    "    else:\n",
    "        if k == 'Praha':\n",
    "            print(f'Klíč Praha nemá doplněnou hodnotu, protože nemá kraj')\n",
    "        else:\n",
    "            print(f'Pro klíč {k} chybí hodnota')\n",
    "            \n",
    "print('\\n') # vytvoření prázdného řádku            \n",
    "for k, v in mesta.items():\n",
    "    if k == 'Praha':\n",
    "        print('Přeskakuji, klíč Praha nemá kraj')\n",
    "    elif k == 'Brno':\n",
    "        print(f'Hodnota klíče Brno je {v}')\n",
    "    else:\n",
    "        print(f'Hodnota klíče {k} je {v}')\n",
    "\n",
    "\n"
   ]
  },
  {
   "cell_type": "markdown",
   "id": "b41b065a",
   "metadata": {},
   "source": [
    "<h3>Přednost operátorů</h3>\n",
    "\n",
    "Při kombinaci více operátorů (logických či porovnávacích) Python vyhodnocuje podmínky v tomto pořadí: https://docs.python.org/3/reference/expressions.html#operator-precedence\n",
    "\n",
    "Více k tomuto tématu i s příklady např. zde: https://www.programiz.com/python-programming/precedence-associativity\n",
    "\n",
    "Z tohoto důvodu je vhodné uvozovat jednotlivé podmínky závorkami.\n"
   ]
  },
  {
   "cell_type": "code",
   "execution_count": 5,
   "id": "21f233d2",
   "metadata": {},
   "outputs": [
    {
     "name": "stdout",
     "output_type": "stream",
     "text": [
      "1 Splněno\n",
      "2 Nesplněno\n"
     ]
    }
   ],
   "source": [
    "a = True\n",
    "b = True\n",
    "c = False\n",
    "\n",
    "'''\n",
    "V tomto případě b and c je vyhodnoceno první a je False, ale a or False je True. Výsledek je \"Splněno\".\n",
    "'''\n",
    "if a or b and c:\n",
    "    print(1,\"Splněno\")\n",
    "else:\n",
    "    print(1,\"Nesplněno\")\n",
    "\n",
    "'''\n",
    "(a or b) je vyhodnoceno jako True, ale True and c je False, protože c je False. Výsledek je \"Nesplněno\".\n",
    "'''\n",
    "if (a or b) and c:\n",
    "    print(2,\"Splněno\")\n",
    "else:\n",
    "    print(2,\"Nesplněno\")"
   ]
  },
  {
   "cell_type": "code",
   "execution_count": null,
   "id": "d93701c7",
   "metadata": {},
   "outputs": [],
   "source": [
    "mesta = {'Praha':None,'Brno':'Jihomoravsky','Ostrava':'Moravskoslezsky','Plzen':None}\n",
    "\n",
    "for k,v in mesta.items():\n",
    "    if ((k =='Praha') and (v==None)) or ((k =='Plzen') and (v==None)):\n",
    "        print(f'Podminka2 splnena {k}')\n",
    "\n",
    "    "
   ]
  },
  {
   "cell_type": "code",
   "execution_count": null,
   "id": "e6e890fa",
   "metadata": {},
   "outputs": [],
   "source": [
    "#Cviceni1\n",
    "\n",
    "mesta_pocet_obyvatel = {'Praha':1275406,'Brno':379466,'Ostrava':279791,'Plzen':None}\n",
    "mesta_cr_kraje = {'Praha':None,'Brno':'Jihomoravsky','Ostrava':'Moravskoslezsky','Plzen':None}\n",
    "\n",
    "# 1. Prochazejte slovnik mesta_pocet_obyvatel,\n",
    "#     - pokud je hodnota klice vyssi 1000000, vypiste 'velke mesto'\n",
    "#     - pokud je hodnota klice vyssi 300000, vypiste 'stredni mesto'\n",
    "#     - jinak vypiste 'mesto'\n",
    "    \n",
    "    \n",
    "\n",
    "    \n",
    "\n"
   ]
  }
 ],
 "metadata": {
  "kernelspec": {
   "display_name": "Python 3 (ipykernel)",
   "language": "python",
   "name": "python3"
  },
  "language_info": {
   "codemirror_mode": {
    "name": "ipython",
    "version": 3
   },
   "file_extension": ".py",
   "mimetype": "text/x-python",
   "name": "python",
   "nbconvert_exporter": "python",
   "pygments_lexer": "ipython3",
   "version": "3.11.4"
  }
 },
 "nbformat": 4,
 "nbformat_minor": 5
}
