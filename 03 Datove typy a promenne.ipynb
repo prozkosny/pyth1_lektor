{
 "cells": [
  {
   "cell_type": "markdown",
   "id": "17c4f6f4",
   "metadata": {},
   "source": [
    "<h1>Proměnné<h1>\n",
    "<h2>Vytvoření proměnných</h2>\n",
    "Pokud s hodnotou pracujeme opakovaně, je vhodné si ji uložit do tzv. proměnné.\n",
    "Proměnná je místo v operační paměti, jehož hodnota je nám dostupná přes tzv. pointer (název proměnné).\n",
    "Proměnnou definujeme zápisem jejího názvu a hodnoty.\n",
    "\n",
    "Pojmenování proměnné se řídí těmito pravidly:\n",
    "- Název proměnné musí začínat písmenem nebo podtržítkem.\n",
    "- Název proměnné nesmí začínat číslem.\n",
    "- Názvy proměnných jsou case-sensitive, tj. \"Jazyk\" a \"jazyk\" jsou dvě různé proměnné.\n",
    "- Název proměnné se nesmí rovnat vyhrazeným klíčovým slovům, viz https://docs.python.org/release/2.5.4/ref/keywords.html.\n",
    "\n",
    "V Pythonu nemusíme (ale můžeme) definovat typ proměnné."
   ]
  },
  {
   "cell_type": "code",
   "execution_count": null,
   "id": "75cc09ba",
   "metadata": {},
   "outputs": [],
   "source": [
    "# Pozn. textove hodnoty je treba uvodit uvozovkami ci apostrofy. Je na uzivateli, kterou z moznosti zvoli\n",
    "jazyk = 'Python'\n",
    "print('Jazyk je',jazyk)\n",
    "# Promenna typu cislo\n",
    "cislo = 1\n",
    "# Promenna typu text\n",
    "cislo2 = str(1)\n",
    "\n",
    "print('typ promenne cislo',type(cislo))\n",
    "print('typ promenne cislo2',type(cislo2))"
   ]
  },
  {
   "cell_type": "markdown",
   "id": "50b60eba",
   "metadata": {},
   "source": [
    "<h3>Datové typy proměnných</h3>\n",
    "Mezi tzv. primitivní datové typy patří:\n",
    "text: str\n",
    "numerické typy: int, float, complex\n",
    "booleanovský typ: bool\n",
    "prázdný typ: NoneType (reprezentován hodnotou None)\n",
    "Mezi tzv. neprimitivní datové typy patří:\n",
    "seznam: list\n",
    "n-tice: tuple\n",
    "slovník: dict\n",
    "množina: set\n",
    "<h3>Měnitelnost proměnných</h3> Proměnné rozlišujeme i podle toho, jestli je jejich hodnota měnitelná (anglicky \"mutable\"), nebo neměnitelná (anglicky \"immutable\").\n",
    "Neměnitelné datové typy jsou: int, float, bool, str, tuple, frozenset\n",
    "Měnitelné datové typy jsou: list, dict, set\n",
    "V Pythonu, když pracujeme s měnitelnými datovými typy, jako jsou seznamy, slovníky, množiny a pandas DataFrame, je důležité pochopit, jak je přiřazení těchto objektů k proměnným zpracováváno:\n",
    "\n",
    "Referenční model: Python používá model, kde proměnné neukládají přímo data, ale odkazy na objekty. Tento model umožňuje, že pokud přiřadíte jeden objekt (např. list nebo DataFrame) k jiné proměnné, obě proměnné budou ukazovat na tentýž objekt v paměti.\n",
    "\n",
    "<h3>Více k neprimitivním datovým typům</h3> <h4>Seznam (list)</h4>\n",
    "Datový typ seznam definujeme hranatými závorkami, tj. []\n",
    "Seznam obsahuje seřazené hodnoty, je měnitelný a umožňuje duplicity\n",
    "Pokud do seznamu přidáme novou hodnotu, je automaticky umístěna na poslední pozici\n",
    "Jednotlivé položky seznamu mohou mít různé datové typy\n",
    "Více k seznamu: https://docs.python.org/3/tutorial/datastructures.html\n",
    "\n",
    "<h4>N-tice (tuple)</h4>\n",
    "Datový typ n-tice definujeme kulatými závorkami, tj. ()\n",
    "N-tice obsahuje seřazené hodnoty, je neměnitelná a umožňuje duplicity\n",
    "Jednotlivé položky n-tice mohou mít různé datové typy\n",
    "Více k n-tici: https://docs.python.org/3/library/stdtypes.html#typesseq\n",
    "\n",
    "<h4>Slovník (dict)</h4>\n",
    "Datový typ slovník definujeme složenými závorkami, tj. {}\n",
    "Slovník slouží k uložení hodnot v párech, kdy definujeme klíč a hodnotu daného páru\n",
    "Slovník obsahuje neseřazené hodnoty, je měnitelný a umožňuje duplicity klíčů v rámci jednoho páru (každý klíč musí být unikátní)\n",
    "Více ke slovníku: https://docs.python.org/3/tutorial/datastructures.html#dictionaries\n",
    "\n",
    "<h4>Množina (set)</h4>\n",
    "Datový typ množina definujeme {} nebo set()\n",
    "Množina obsahuje neseřazené a měnitelné hodnoty, neumožňuje duplicity\n",
    "Jednotlivé položky množiny musí být neměnitelné datové typy (např. int, float, str, tuple)\n",
    "Více k množinám: https://docs.python.org/3/tutorial/datastructures.html#sets"
   ]
  },
  {
   "cell_type": "markdown",
   "id": "9104c95a",
   "metadata": {},
   "source": [
    "<h2>Práce s neprimitivními datovými typy</h2>\n",
    "<h3>Úprava neprimitivních datových typů</h3>\n",
    "<h4>Seznam (list)</h4>\n",
    "\n",
    "Vycházejme ze seznamu mesta = ['Praha', 'Brno', 'Ostrava']\n",
    "\n",
    "- Přístup k konkrétní položce seznamu: mesta[0]\n",
    "- Změna hodnoty na konkrétní pozici: mesta[0] = 'Brno'\n",
    "- Změna délky seznamu: mesta[0:1]\n",
    "- Přidání položky na konec seznamu: mesta.append('Plzeň')\n",
    "- Přidání položky na konkrétní pozici: mesta.insert(1, 'Olomouc')\n",
    "- Odstranění položky ze seznamu: mesta.remove('Olomouc')\n",
    "- Odstranění konkrétní pozice ze seznamu: mesta.pop(0)\n"
   ]
  },
  {
   "cell_type": "code",
   "execution_count": null,
   "id": "a5e1b64b",
   "metadata": {},
   "outputs": [],
   "source": [
    "mesta = ['Praha', 'Brno', 'Ostrava']\n",
    "print(\"Přístup na konkrétní položku listu:\\n\", mesta[0])\n",
    "\n",
    "mesta[0] = 'Brno'\n",
    "print(\"Změna hodnoty na konkrétní pozici:\\n\", mesta)\n",
    "\n",
    "print(\"Změna délky listu:\\n\", mesta[0:1])\n",
    "\n",
    "mesta.append('Plzeň')\n",
    "print(\"Přidání položky na konec listu:\\n\", mesta)\n",
    "\n",
    "mesta.insert(1, 'Olomouc')\n",
    "print(\"Přidání položky na konkrétní pozici:\\n\", mesta)\n",
    "\n",
    "mesta.remove('Olomouc')\n",
    "print(\"Odstranění položky z listu:\\n\", mesta)\n",
    "\n",
    "mesta.pop(0)\n",
    "print(\"Odstranění konkrétní pozice z listu:\\n\", mesta)\n",
    "\n"
   ]
  },
  {
   "cell_type": "markdown",
   "id": "358b7044",
   "metadata": {},
   "source": [
    "<h4>Slovník (dictionary)</h4>\n",
    "\n",
    "Vycházejme ze slovníku\n",
    "mesta = {'Praha': None, 'Brno': 'Jihomoravský', 'Ostrava': 'Moravskoslezský'}\n",
    "\n",
    "- Přístup k konkrétní položce slovníku: mesta['Brno'], případně mesta.get('Brno')\n",
    "- Přístup k klíčům, kdy návratovou hodnotou je seznam klíčů: mesta.keys()\n",
    "- Přístup k hodnotám, kdy návratovou hodnotou je seznam hodnot: mesta.values()\n",
    "- Změna položky: mesta['Praha'] = 'Hlavní město Praha', případně mesta.update({'Praha': 'Hlavní město Praha'})\n",
    "- Přidání položky do slovníku: mesta['Olomouc'] = 'Olomoucký', případně mesta.update({'Olomouc': 'Olomoucký'})\n",
    "- Odstranění položky ze slovníku: del mesta['Olomouc'], případně mesta.pop('Olomouc')\n",
    "- Odstranění poslední položky ze slovníku: mesta.popitem()\n",
    "- Odstranění všech položek ze slovníku: mesta.clear()\n",
    "\n"
   ]
  },
  {
   "cell_type": "code",
   "execution_count": null,
   "id": "bc0b47fc",
   "metadata": {},
   "outputs": [],
   "source": [
    "# Slovník (dictionary)\n",
    "mesta = {'Praha': None, 'Brno': 'Jihomoravský', 'Ostrava': 'Moravskoslezský'}\n",
    "print(\"Slovník (dictionary):\\n\", mesta)\n",
    "\n",
    "# Přístup na konkrétní položku slovníku\n",
    "brno = mesta['Brno']\n",
    "brno_alternative = mesta.get('Brno')\n",
    "print(\"Přístup na konkrétní položku slovníku:\\n\", mesta)\n",
    "\n",
    "# Přístup na klíče, kdy návratovou hodnotou je list\n",
    "print(\"Přístup na klíče:\\n\", mesta.keys())\n",
    "\n",
    "# Přístup na hodnoty, kdy návratovou hodnotou je list\n",
    "print(\"Přístup na hodnoty:\\n\", mesta.values())\n",
    "\n",
    "# Změna položky\n",
    "mesta['Praha'] = 'Hlavní město Praha'\n",
    "print(\"Změna položky:\\n\", mesta)\n",
    "\n",
    "\n",
    "print(\"Změna položky pomocí update:\\n\", mesta.update({'Praha': 'Hlavní město Praha'}))\n",
    "\n",
    "# Přidání položky na konec slovníku\n",
    "mesta['Olomouc'] = 'Olomoucký'\n",
    "print(\"Přidání položky na konec slovníku:\\n\", mesta)\n",
    "\n",
    "print(\"Přidání položky pomocí update:\\n\", mesta.update({'Olomouc': 'Olomoucký'}))\n",
    "\n",
    "# Odstranění položky z listu\n",
    "del mesta['Olomouc']\n",
    "print(\"Odstranění položky:\\n\", mesta)\n",
    "print(\"Odstranění položky pomocí pop:\\n\", mesta.pop('Brno'))\n",
    "\n",
    "# Odstranění poslední položky z listu\n",
    "print(\"Odstranění poslední položky:\\n\", mesta.popitem())\n",
    "\n",
    "# Odstranění všech položek ze slovníku\n",
    "print(\"Odstranění všech položek:\\n\", mesta.clear())\n",
    "\n"
   ]
  },
  {
   "cell_type": "markdown",
   "id": "ca3f07b7",
   "metadata": {},
   "source": [
    "<h4>N-tice (tuple)</h4>\n",
    "\n",
    "Vycházejme z n-tice (tuple) mesta = ('Praha','Brno','Ostrava')\n",
    "\n",
    "-  Přístup na konkrétní položku tuple: mesta[0]"
   ]
  },
  {
   "cell_type": "code",
   "execution_count": null,
   "id": "25cf61b0",
   "metadata": {},
   "outputs": [],
   "source": [
    "# Cviceni1\n",
    "\n",
    "# 1. Vytvorte list s hodnotami 'Brno','Praha','Brno','Ostrava','Plzen'\n",
    "# 2. Aktualizujte list tak, ze odstranite polozku s indexem 0 (tj. prvni mesto)\n",
    "# 3. Na konec listu pridejte novou polozku 'Olomouc'\n",
    "# 4. Pres funkci print vypiste aktualni podobu listu\n",
    "\n",
    "\n"
   ]
  },
  {
   "cell_type": "code",
   "execution_count": null,
   "id": "35202f51",
   "metadata": {},
   "outputs": [],
   "source": [
    "#Cviceni2\n",
    "\n",
    "# 1. Vytvorte list zeme s hodnotami 'Slovensko','Madarsko','Polsko','Rakousko','Nemecko'\n",
    "# 2. Omezte list tak, aby obsahovat pouze prvni tri zeme zleva\n",
    "# 3. Na prvni pozici (tj. index 0) dosadte hodnotu 'Cesko'\n",
    "# 4. Pres funkci print vypiste aktualni podobu listu11"
   ]
  },
  {
   "cell_type": "code",
   "execution_count": null,
   "id": "27ade720",
   "metadata": {},
   "outputs": [],
   "source": [
    "#Cviceni 3\n",
    "\n",
    "# 1. Vytvořte slovník zeme a do něj dosaďte informaci o názvu a počtu obyvatel 3 nejlidnatejsich zemi EU, viz https://cs.wikipedia.org/wiki/Seznam_%C4%8Dlensk%C3%BDch_st%C3%A1t%C5%AF_Evropsk%C3%A9_unie_podle_po%C4%8Dtu_obyvatel\n",
    "# 2. Za pomoci funkce print() vypiste nazvy zemi (tj. klice slovniku)\n",
    "# 3. Na konec slovniku pridejte ctvrtou nejlidnatejsi zemi\n",
    "# 4. Za pomoci funkce print() vypiste pocet obyvatel zeme Francie\n",
    "\n"
   ]
  },
  {
   "cell_type": "code",
   "execution_count": null,
   "id": "81bb1042",
   "metadata": {},
   "outputs": [],
   "source": [
    "#Cviceni 4\n",
    "\n",
    "# 1. Znovu pouzijte slovnik z prvniho bodu predchoziho cviceni\n",
    "# 2. Aktualizujte hodnotu pro zemi Francie na 67656000\n",
    "# 3. Smazte posledni polozku slovniku\n",
    "# 4. Do slovniku pridejte klic:hodnota Polsko:37840001\n",
    "# 5. Za pomoci print vypiste aktualni podobu slovniku\n"
   ]
  }
 ],
 "metadata": {
  "kernelspec": {
   "display_name": "Python 3 (ipykernel)",
   "language": "python",
   "name": "python3"
  },
  "language_info": {
   "codemirror_mode": {
    "name": "ipython",
    "version": 3
   },
   "file_extension": ".py",
   "mimetype": "text/x-python",
   "name": "python",
   "nbconvert_exporter": "python",
   "pygments_lexer": "ipython3",
   "version": "3.11.4"
  }
 },
 "nbformat": 4,
 "nbformat_minor": 5
}
