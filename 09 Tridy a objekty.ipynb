{
 "cells": [
  {
   "cell_type": "markdown",
   "id": "5563509f",
   "metadata": {},
   "source": [
    "<h1>Třídy a objekty</h1>\n",
    "\n",
    "- Python je objektově orientovaný jazyk.\n",
    "- Téměř vše v Pythonu je objekt, který má vlastnosti (atributy) a funkcionalitu (metody).\n",
    "- Skript si můžeme doplnit o vlastní objekty se specifickými atributy a metodami.\n",
    "\n",
    "<h2>Názvosloví</h2>\n",
    "\n",
    "- třída (`class`): uživatelem definovaná datová struktura\n",
    "- instance: objekt vytvořený z třídy\n",
    "- atribut: vlastnost (proměnná) třídy\n",
    "- metoda: chování (funkce) třídy\n",
    "\n",
    "<h2>Třídy</h2>\n",
    "    \n",
    "- Třídu vytváříme klíčovým slovem `class`, za kterým následuje název třídy.\n",
    "- Konvence pojmenovávání tříd jsou následující: [PEP 8 - Style Guide for Python Code](https://peps.python.org/pep-0008/#class-names)\n",
    "- V případě využití možnosti dědění, třídy dělíme na:\n",
    "    - rodič (`parent class`)\n",
    "    - potomek (`child class`)\n",
    "- V případě, kdy třída přebírá strukturu jiné třídy, za názvem třídy následuje závorka s určením názvu předka.\n",
    "\n",
    "<h2>Instance</h2>\n",
    "\n",
    "- Instanci vytvoříme zavoláním názvu třídy a doplněním pozičních atributů.\n",
    "- Instance automaticky přebírá strukturu třídy.\n",
    "- Z jedné třídy mohu vytvořit více instancí, ty jsou pak na sobě nezávislé.\n",
    "\n",
    "<h2>Atributy</h2>\n",
    "\n",
    "- Atributy (vlastnosti) třídy nastavujeme za pomoci tzv. konstruktoru.\n",
    "- Konstruktor má podobu funkce s názvem `__init__`, konstruktor vytváříme ihned pod názvem třídy (případně dokumentačním řetězcem).\n",
    "- Strukturu objektu (ať už třídy či instance) si lze vyvolat za pomoci atributu `__dict__`.\n",
    "    - Instance přebírá atributy třídy, ale nejsou vlastnostmi samotné instance.\n",
    "- Pokud změníme hodnotu atributu třídy, mění se i hodnoty jednotlivých instancí z třídy vytvořených.\n",
    "- Pokud změníme hodnotu atributu instance, ostatní instance i samotná třída zůstanou nezměněny.\n",
    "\n",
    "<h2>Funkce super</h2>\n",
    "\n",
    "- Zpřístupňuje konstruktor nadřazené třídy bez nutnosti uvádění explicitního názvu.\n",
    "- Je užitečná při vícenásobném dědění.\n"
   ]
  },
  {
   "cell_type": "code",
   "execution_count": null,
   "id": "fbb28793",
   "metadata": {},
   "outputs": [],
   "source": [
    "class Okres:\n",
    "    # Promenna tridy\n",
    "    zeme = 'Cesko'\n",
    "    \n",
    "    # Promenne instanci, pocet_obyvatel je nepovinny argument\n",
    "    def __init__(self,kraj,pocet_obyvatel = None):\n",
    "        self.kraj = kraj\n",
    "        self.obyvatele = pocet_obyvatel\n",
    "\n",
    "    def __str__(self):\n",
    "        return f'kraj:{self.kraj},pocet obyvatel: {self.obyvatele}'\n",
    "        \n",
    "kolin = Okres('Stredocesky',100000)\n",
    "print(kolin)\n",
    "print(kolin.kraj)\n",
    "print(kolin.__dict__)\n",
    "print(kolin.zeme)\n",
    "\n"
   ]
  },
  {
   "cell_type": "markdown",
   "id": "ee6bd7df",
   "metadata": {},
   "source": [
    "<h4>Priklad dedeni</h4>"
   ]
  },
  {
   "cell_type": "code",
   "execution_count": null,
   "id": "65150397",
   "metadata": {},
   "outputs": [],
   "source": [
    "class Okres:\n",
    "    # Promenna tridy\n",
    "    zeme = 'Cesko'\n",
    "    \n",
    "    # Promenne instanci, pocet_obyvatel je nepovinny argument\n",
    "    def __init__(self,kraj,pocet_obyvatel = None):\n",
    "        self.kraj = kraj\n",
    "        self.obyvatele = pocet_obyvatel\n",
    "\n",
    "class Mesto(Okres):\n",
    "\n",
    "    def vypis_kraj(self):\n",
    "        #atribut kraj je definovany v tride predka, tj. tride Okres\n",
    "        print(f'Vypisuji kraj Mesto: {self.kraj}')\n",
    "        \n",
    "        \n",
    "kbely = Mesto('Stredocesky')\n",
    "print(kbely.zeme)\n",
    "kbely.vypis_kraj()"
   ]
  },
  {
   "cell_type": "code",
   "execution_count": null,
   "id": "b0f758da",
   "metadata": {},
   "outputs": [],
   "source": [
    "class Mesto2:\n",
    "\n",
    "    def __init__(self,kraj):\n",
    "        print(f'Vypisuji kraj z tridy Mesto2: {self.kraj}')\n",
    "\n",
    "\n",
    "class Obcan(Mesto2):\n",
    "\n",
    "    def __init__(self,kraj):\n",
    "        self.kraj = kraj\n",
    "        \n",
    "        # Klicove slovo super pristupuje ke konstruktoru sveho predka\n",
    "        # jmeno predka neni zmineno explicitne\n",
    "        super().__init__(self.kraj)\n",
    "\n",
    "\n",
    "pepa = Obcan('Moravskoslezsky')"
   ]
  },
  {
   "cell_type": "code",
   "execution_count": null,
   "id": "8712f65f",
   "metadata": {},
   "outputs": [],
   "source": [
    "#Cviceni1\n",
    "\n",
    "# 1. Vytvorte tridu Mesto\n",
    "# 1.1. Vytvorte promennou tridy zeme = 'Cesko'\n",
    "# 1.2. Vytvorte konstruktor, s pozicnimi argumenty kraj,okres a pojmenovanym argumentem aquapark s vychozi hodnotou None\n",
    "# 1.3. Vytvorte metodu pochval_mesto tridy, ktera vypise:\n",
    "#     - pokud je hodnota parametru aquapark None: 'Krasne mesto v okrese {okres}, ale  nema aquapark.\n",
    "#     - pokud neni hodnota parametru aquapark None: 'Krasne mesto v okrese {}, ktere ma i aquapark'\n",
    "        \n",
    "# 2. Vytvorte instanci kolin ze tridy Mesto, jako povinne argumenty dosadte Stredocesky kraj, Kolin\n",
    "# 3. Zavolejte metodu pochval_mesto\n",
    "\n",
    "\n"
   ]
  }
 ],
 "metadata": {
  "kernelspec": {
   "display_name": "Python 3 (ipykernel)",
   "language": "python",
   "name": "python3"
  },
  "language_info": {
   "codemirror_mode": {
    "name": "ipython",
    "version": 3
   },
   "file_extension": ".py",
   "mimetype": "text/x-python",
   "name": "python",
   "nbconvert_exporter": "python",
   "pygments_lexer": "ipython3",
   "version": "3.11.4"
  }
 },
 "nbformat": 4,
 "nbformat_minor": 5
}
